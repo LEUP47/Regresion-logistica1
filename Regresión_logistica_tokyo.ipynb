{
 "cells": [
  {
   "cell_type": "code",
   "execution_count": null,
   "metadata": {},
   "outputs": [],
   "source": [
    "#Cargamos librerias \n",
    "import numpy as np\n",
    "import pandas as pd\n",
    "import matplotlib.pyplot as plt\n",
    "import scipy.special as special\n",
    "from scipy.optimize import curve_fit\n",
    "import seaborn as sns\n",
    "from sklearn.metrics import r2_score\n",
    "from sklearn.model_selection import train_test_split\n",
    "from sklearn.preprocessing import StandardScaler"
   ]
  },
  {
   "cell_type": "code",
   "execution_count": null,
   "metadata": {},
   "outputs": [],
   "source": [
    "#Carga desde un archivo .csv sin indice y eliminar filas innecesarias\n",
    "dft=pd.read_csv(\"tokyo_limpio.csv\")\n",
    "dft.head(5)"
   ]
  },
  {
   "cell_type": "code",
   "execution_count": null,
   "metadata": {},
   "outputs": [],
   "source": [
    "#Rellenamos valores nulos\n",
    "dft= dft.fillna(method='bfill')\n",
    "dft= dft.fillna(method='ffill')"
   ]
  },
  {
   "cell_type": "code",
   "execution_count": null,
   "metadata": {},
   "outputs": [],
   "source": [
    "dft['price'].info()"
   ]
  },
  {
   "cell_type": "markdown",
   "metadata": {},
   "source": [
    "**1 categorica**"
   ]
  },
  {
   "cell_type": "code",
   "execution_count": null,
   "metadata": {},
   "outputs": [],
   "source": [
    "#Obtenemos el limite superior y el límite inferior de la columna objetivo\n",
    "Max=dft['price'].max()\n",
    "Min=dft['price'].min()\n",
    "Limites= [Min, Max]\n",
    "Limites"
   ]
  },
  {
   "cell_type": "code",
   "execution_count": null,
   "metadata": {},
   "outputs": [],
   "source": [
    "#Categorización de variables\n",
    "#Declaramos 2 intervalos \n",
    "intervalos=np.linspace(105.0, 13283.0, 3)\n",
    "intervalos"
   ]
  },
  {
   "cell_type": "code",
   "execution_count": null,
   "metadata": {},
   "outputs": [],
   "source": [
    "#Creamos las categorías \n",
    "categorias= [\"cheap\", \"expensive\"]"
   ]
  },
  {
   "cell_type": "code",
   "execution_count": null,
   "metadata": {},
   "outputs": [],
   "source": [
    "#Finalmente creamos las categorías en la columna numérica\n",
    "dft['price']=pd.cut(x= dft['price'], bins=intervalos, labels= categorias )"
   ]
  },
  {
   "cell_type": "code",
   "execution_count": null,
   "metadata": {},
   "outputs": [],
   "source": [
    "#Rellenamos valores nulos\n",
    "dft= dft.fillna(method='bfill')\n",
    "dft= dft.fillna(method='ffill')"
   ]
  },
  {
   "cell_type": "code",
   "execution_count": null,
   "metadata": {},
   "outputs": [],
   "source": [
    "dft['price'].isnull().sum()"
   ]
  },
  {
   "cell_type": "code",
   "execution_count": null,
   "metadata": {},
   "outputs": [],
   "source": [
    "vars_Indep = dft[['bedrooms']]\n",
    "#'bathrooms'\n",
    "vars_Dep = dft['price']\n",
    "#'accommodates', 'host_response_rate', 'host_acceptance_rate', 'host_total_listings_count', 'reviews_per_month'"
   ]
  },
  {
   "cell_type": "code",
   "execution_count": null,
   "metadata": {},
   "outputs": [],
   "source": [
    "#Redefinimos las variables \n",
    "x= vars_Indep\n",
    "y= vars_Dep"
   ]
  },
  {
   "cell_type": "code",
   "execution_count": null,
   "metadata": {},
   "outputs": [],
   "source": [
    "#dividimos el conjunto de datos en la parte de entrenamiento y pruba \n",
    "X_test, X_train, Y_test, Y_train= train_test_split(x,y, test_size=0.3, random_state=None)"
   ]
  },
  {
   "cell_type": "code",
   "execution_count": null,
   "metadata": {},
   "outputs": [],
   "source": [
    "escalar = StandardScaler()"
   ]
  },
  {
   "cell_type": "code",
   "execution_count": null,
   "metadata": {},
   "outputs": [],
   "source": [
    "#Para realizar el escalamiento de las variables \"X\" tanto de entrenamiento como de prueba, Utilizaremos \n",
    "X_train = escalar.fit_transform(X_train)\n",
    "X_test = escalar.transform(X_test)"
   ]
  },
  {
   "cell_type": "code",
   "execution_count": null,
   "metadata": {},
   "outputs": [],
   "source": [
    "#definimos el algoritmo a utilizar\n",
    "from sklearn.linear_model import LogisticRegression\n",
    "algoritmo = LogisticRegression()"
   ]
  },
  {
   "cell_type": "code",
   "execution_count": null,
   "metadata": {},
   "outputs": [],
   "source": [
    "#Entrenamos el modelo \n",
    "algoritmo.fit(X_train, Y_train)"
   ]
  },
  {
   "cell_type": "code",
   "execution_count": null,
   "metadata": {},
   "outputs": [],
   "source": [
    "#realizamos una prediccion \n",
    "y_pred = algoritmo.predict(X_test)\n",
    "y_pred"
   ]
  },
  {
   "cell_type": "code",
   "execution_count": null,
   "metadata": {},
   "outputs": [],
   "source": [
    "#Verifico la matriz de confusion \n",
    "from sklearn.metrics import confusion_matrix\n",
    "matriz = confusion_matrix(Y_test, y_pred)\n",
    "print('Matriz de Confusion')\n",
    "print(matriz)"
   ]
  },
  {
   "cell_type": "code",
   "execution_count": null,
   "metadata": {},
   "outputs": [],
   "source": [
    "#CAlculamos la prediccion del modelo \n",
    "from sklearn.metrics import precision_score\n",
    "\n",
    "precision = precision_score(Y_test, y_pred, average=\"binary\", pos_label=\"cheap\")\n",
    "print('Precision del modelo:')\n",
    "print(precision)"
   ]
  },
  {
   "cell_type": "code",
   "execution_count": null,
   "metadata": {},
   "outputs": [],
   "source": [
    "#Calculamos la exactitud del modelo \n",
    "from sklearn.metrics import accuracy_score\n",
    "\n",
    "exactitud = accuracy_score(Y_test, y_pred)\n",
    "print('Exactitud del modelo:')\n",
    "print(exactitud)"
   ]
  },
  {
   "cell_type": "code",
   "execution_count": null,
   "metadata": {},
   "outputs": [],
   "source": [
    "#calculamos la sensibilidad del modelo \n",
    "from sklearn.metrics import recall_score\n",
    "\n",
    "sensibilidad = recall_score(Y_test, y_pred, average=\"binary\", pos_label=\"cheap\")\n",
    "print('Sensibilidad del modelo:')\n",
    "print(sensibilidad)"
   ]
  },
  {
   "cell_type": "markdown",
   "metadata": {},
   "source": [
    "**2 Categoricas**"
   ]
  },
  {
   "cell_type": "code",
   "execution_count": null,
   "metadata": {},
   "outputs": [],
   "source": [
    "#Obtenemos el limite superior y el límite inferior de la columna objetivo\n",
    "Max=dft['accommodates'].max()\n",
    "Min=dft['accommodates'].min()\n",
    "Limites= [Min, Max]\n",
    "Limites"
   ]
  },
  {
   "cell_type": "code",
   "execution_count": null,
   "metadata": {},
   "outputs": [],
   "source": [
    "#Categorización de variables\n",
    "#Declaramos 2 intervalos \n",
    "intervalos1=np.linspace(0.99, 10.1, 3)\n",
    "intervalos1"
   ]
  },
  {
   "cell_type": "code",
   "execution_count": null,
   "metadata": {},
   "outputs": [],
   "source": [
    "#Creamos las categorías \n",
    "categorias1= [\"pocos\", \"manada\"]"
   ]
  },
  {
   "cell_type": "code",
   "execution_count": null,
   "metadata": {},
   "outputs": [],
   "source": [
    "dft['accommodates']"
   ]
  },
  {
   "cell_type": "code",
   "execution_count": null,
   "metadata": {},
   "outputs": [],
   "source": [
    "#Finalmente creamos las categorías en la columna numérica\n",
    "dft['accommodates']=pd.cut(x= dft['accommodates'], bins=intervalos1, labels= categorias1 )"
   ]
  },
  {
   "cell_type": "code",
   "execution_count": null,
   "metadata": {},
   "outputs": [],
   "source": [
    "#Rellenamos valores nulos\n",
    "dft= dft.fillna(method='bfill')\n",
    "dftf= dft.fillna(method='ffill')"
   ]
  },
  {
   "cell_type": "code",
   "execution_count": null,
   "metadata": {},
   "outputs": [],
   "source": [
    "dft['accommodates'].isnull().sum()"
   ]
  },
  {
   "cell_type": "code",
   "execution_count": null,
   "metadata": {},
   "outputs": [],
   "source": [
    "vars_Indep_1 = dft[['bedrooms']]\n",
    "#'bathrooms'\n",
    "vars_Dep_1 = dft['accommodates']\n",
    "#'accommodates', 'host_response_rate', 'host_acceptance_rate', 'host_total_listings_count', 'reviews_per_month'"
   ]
  },
  {
   "cell_type": "code",
   "execution_count": null,
   "metadata": {},
   "outputs": [],
   "source": [
    "#Redefinimos las variables \n",
    "x= vars_Indep_1\n",
    "y= vars_Dep_1"
   ]
  },
  {
   "cell_type": "code",
   "execution_count": null,
   "metadata": {},
   "outputs": [],
   "source": [
    "#dividimos el conjunto de datos en la parte de entrenamiento y pruba \n",
    "X_test1, X_train1, Y_test1, Y_train1= train_test_split(x,y, test_size=0.3, random_state=None)"
   ]
  },
  {
   "cell_type": "code",
   "execution_count": null,
   "metadata": {},
   "outputs": [],
   "source": [
    "escalar1 = StandardScaler()"
   ]
  },
  {
   "cell_type": "code",
   "execution_count": null,
   "metadata": {},
   "outputs": [],
   "source": [
    "#Para realizar el escalamiento de las variables \"X\" tanto de entrenamiento como de prueba, Utilizaremos \n",
    "X_train1 = escalar.fit_transform(X_train1)\n",
    "X_test1 = escalar.transform(X_test1)"
   ]
  },
  {
   "cell_type": "code",
   "execution_count": null,
   "metadata": {},
   "outputs": [],
   "source": [
    "#definimos el algoritmo a utilizar\n",
    "from sklearn.linear_model import LogisticRegression\n",
    "algoritmo1 = LogisticRegression()"
   ]
  },
  {
   "cell_type": "code",
   "execution_count": null,
   "metadata": {},
   "outputs": [],
   "source": [
    "#Entrenamos el modelo \n",
    "algoritmo1.fit(X_train1, Y_train1)"
   ]
  },
  {
   "cell_type": "code",
   "execution_count": null,
   "metadata": {},
   "outputs": [],
   "source": [
    "#realizamos una prediccion \n",
    "y_pred1 = algoritmo1.predict(X_test1)\n",
    "y_pred1"
   ]
  },
  {
   "cell_type": "code",
   "execution_count": null,
   "metadata": {},
   "outputs": [],
   "source": [
    "#Verifico la matriz de confusion \n",
    "from sklearn.metrics import confusion_matrix\n",
    "matriz = confusion_matrix(Y_test1, y_pred1)\n",
    "print('Matriz de Confusion')\n",
    "print(matriz)"
   ]
  },
  {
   "cell_type": "code",
   "execution_count": null,
   "metadata": {},
   "outputs": [],
   "source": [
    "#CAlculamos la prediccion del modelo \n",
    "from sklearn.metrics import precision_score\n",
    "\n",
    "precision = precision_score(Y_test1, y_pred1, average=\"binary\", pos_label=\"pocos\")\n",
    "print('Precision del modelo:')\n",
    "print(precision)"
   ]
  },
  {
   "cell_type": "code",
   "execution_count": null,
   "metadata": {},
   "outputs": [],
   "source": [
    "#Calculamos la exactitud del modelo \n",
    "from sklearn.metrics import accuracy_score\n",
    "\n",
    "exactitud = accuracy_score(Y_test1, y_pred1)\n",
    "print('Exactitud del modelo:')\n",
    "print(exactitud)"
   ]
  },
  {
   "cell_type": "code",
   "execution_count": null,
   "metadata": {},
   "outputs": [],
   "source": [
    "#calculamos la sensibilidad del modelo \n",
    "from sklearn.metrics import recall_score\n",
    "\n",
    "sensibilidad = recall_score(Y_test1, y_pred1, average=\"binary\", pos_label=\"pocos\")\n",
    "print('Sensibilidad del modelo:')\n",
    "print(sensibilidad)"
   ]
  },
  {
   "cell_type": "markdown",
   "metadata": {},
   "source": [
    "**3 Categoricas**"
   ]
  },
  {
   "cell_type": "code",
   "execution_count": null,
   "metadata": {},
   "outputs": [],
   "source": [
    "#Obtenemos el limite superior y el límite inferior de la columna objetivo\n",
    "Max=dft['beds'].max()\n",
    "Min=dft['beds'].min()\n",
    "Limites= [Min, Max]\n",
    "Limites"
   ]
  },
  {
   "cell_type": "code",
   "execution_count": null,
   "metadata": {},
   "outputs": [],
   "source": [
    "#Categorización de variables\n",
    "#Declaramos 2 intervalos \n",
    "intervalos2=np.linspace(-0.1, 7.1, 3)\n",
    "intervalos2\n"
   ]
  },
  {
   "cell_type": "code",
   "execution_count": null,
   "metadata": {},
   "outputs": [],
   "source": [
    "#Creamos las categorías \n",
    "categorias2= [\"dormilones\", \"activos\"]"
   ]
  },
  {
   "cell_type": "code",
   "execution_count": null,
   "metadata": {},
   "outputs": [],
   "source": [
    "dft['beds']"
   ]
  },
  {
   "cell_type": "code",
   "execution_count": null,
   "metadata": {},
   "outputs": [],
   "source": [
    "#Finalmente creamos las categorías en la columna numérica\n",
    "dft['beds']=pd.cut(x= dft['beds'], bins=intervalos2, labels= categorias2 )\n"
   ]
  },
  {
   "cell_type": "code",
   "execution_count": null,
   "metadata": {},
   "outputs": [],
   "source": [
    "#Rellenamos valores nulos\n",
    "dft= dft.fillna(method='bfill')\n",
    "dftf= dft.fillna(method='ffill')\n"
   ]
  },
  {
   "cell_type": "code",
   "execution_count": null,
   "metadata": {},
   "outputs": [],
   "source": [
    "dft['beds'].isnull().sum()"
   ]
  },
  {
   "cell_type": "code",
   "execution_count": null,
   "metadata": {},
   "outputs": [],
   "source": [
    "vars_Indep_2 = dft[['bedrooms']]\n",
    "\n",
    "vars_Dep_2 = dft['beds']\n"
   ]
  },
  {
   "cell_type": "code",
   "execution_count": null,
   "metadata": {},
   "outputs": [],
   "source": [
    "#Redefinimos las variables \n",
    "x= vars_Indep_2\n",
    "y= vars_Dep_2\n"
   ]
  },
  {
   "cell_type": "code",
   "execution_count": null,
   "metadata": {},
   "outputs": [],
   "source": [
    "#dividimos el conjunto de datos en la parte de entrenamiento y pruba \n",
    "X_test2, X_train2, Y_test2, Y_train2= train_test_split(x,y, test_size=0.3, random_state=None)\n"
   ]
  },
  {
   "cell_type": "code",
   "execution_count": null,
   "metadata": {},
   "outputs": [],
   "source": [
    "escalar2 = StandardScaler()"
   ]
  },
  {
   "cell_type": "code",
   "execution_count": null,
   "metadata": {},
   "outputs": [],
   "source": [
    "#Para realizar el escalamiento de las variables \"X\" tanto de entrenamiento como de prueba, Utilizaremos \n",
    "X_train2 = escalar.fit_transform(X_train2)\n",
    "X_test2 = escalar.transform(X_test2)\n"
   ]
  },
  {
   "cell_type": "code",
   "execution_count": null,
   "metadata": {},
   "outputs": [],
   "source": [
    "#definimos el algoritmo a utilizar\n",
    "from sklearn.linear_model import LogisticRegression\n",
    "algoritmo2 = LogisticRegression()\n"
   ]
  },
  {
   "cell_type": "code",
   "execution_count": null,
   "metadata": {},
   "outputs": [],
   "source": [
    "#Entrenamos el modelo \n",
    "algoritmo2.fit(X_train2, Y_train2)\n"
   ]
  },
  {
   "cell_type": "code",
   "execution_count": null,
   "metadata": {},
   "outputs": [],
   "source": [
    "#realizamos una prediccion \n",
    "y_pred2 = algoritmo2.predict(X_test2)\n",
    "y_pred2\n"
   ]
  },
  {
   "cell_type": "code",
   "execution_count": null,
   "metadata": {},
   "outputs": [],
   "source": [
    "#Verifico la matriz de confusion \n",
    "from sklearn.metrics import confusion_matrix\n",
    "matriz = confusion_matrix(Y_test2, y_pred2)\n",
    "print('Matriz de Confusion')\n",
    "print(matriz)\n"
   ]
  },
  {
   "cell_type": "code",
   "execution_count": null,
   "metadata": {},
   "outputs": [],
   "source": [
    "#CAlculamos la prediccion del modelo \n",
    "from sklearn.metrics import precision_score\n",
    "precision = precision_score(Y_test2, y_pred2, average=\"binary\", pos_label=\"dormilones\")\n",
    "print('Precision del modelo:')\n",
    "print(precision)\n"
   ]
  },
  {
   "cell_type": "code",
   "execution_count": null,
   "metadata": {},
   "outputs": [],
   "source": [
    "#Calculamos la exactitud del modelo \n",
    "from sklearn.metrics import accuracy_score\n",
    "exactitud = accuracy_score(Y_test2, y_pred2)\n",
    "print('Exactitud del modelo:')\n",
    "print(exactitud)\n"
   ]
  },
  {
   "cell_type": "code",
   "execution_count": null,
   "metadata": {},
   "outputs": [],
   "source": [
    "#calculamos la sensibilidad del modelo \n",
    "from sklearn.metrics import recall_score\n",
    "sensibilidad = recall_score(Y_test2, y_pred2, average=\"binary\", pos_label=\"dormilones\")\n",
    "print('Sensibilidad del modelo:')\n",
    "print(sensibilidad)\n"
   ]
  },
  {
   "cell_type": "markdown",
   "metadata": {},
   "source": [
    "**4 categoricas**"
   ]
  },
  {
   "cell_type": "code",
   "execution_count": null,
   "metadata": {},
   "outputs": [],
   "source": [
    "#Obtenemos el limite superior y el límite inferior de la columna objetivo\n",
    "Max=dft['bathrooms'].max()\n",
    "Min=dft['bathrooms'].min()\n",
    "Limites= [Min, Max]\n",
    "Limites\n"
   ]
  },
  {
   "cell_type": "code",
   "execution_count": null,
   "metadata": {},
   "outputs": [],
   "source": [
    "#Categorización de variables\n",
    "#Declaramos 2 intervalos \n",
    "intervalos3=np.linspace(-0.1, 4.6, 3)\n",
    "intervalos3\n"
   ]
  },
  {
   "cell_type": "code",
   "execution_count": null,
   "metadata": {},
   "outputs": [],
   "source": [
    "#Creamos las categorías \n",
    "categorias3= [\"extreñidos\", \"surrones\"]\n"
   ]
  },
  {
   "cell_type": "code",
   "execution_count": null,
   "metadata": {},
   "outputs": [],
   "source": [
    "dft['bathrooms']"
   ]
  },
  {
   "cell_type": "code",
   "execution_count": null,
   "metadata": {},
   "outputs": [],
   "source": [
    "#Finalmente creamos las categorías en la columna numérica\n",
    "dft['bathrooms']=pd.cut(x= dft['bathrooms'], bins=intervalos3, labels= categorias3 )\n"
   ]
  },
  {
   "cell_type": "code",
   "execution_count": null,
   "metadata": {},
   "outputs": [],
   "source": [
    "#Rellenamos valores nulos\n",
    "dft= dft.fillna(method='bfill')\n",
    "dftf= dft.fillna(method='ffill')\n"
   ]
  },
  {
   "cell_type": "code",
   "execution_count": null,
   "metadata": {},
   "outputs": [],
   "source": [
    "dft['bathrooms'].isnull().sum()"
   ]
  },
  {
   "cell_type": "code",
   "execution_count": null,
   "metadata": {},
   "outputs": [],
   "source": [
    "vars_Indep_3 = dft[['bedrooms']]\n",
    "\n",
    "vars_Dep_3 = dft['bathrooms']\n"
   ]
  },
  {
   "cell_type": "code",
   "execution_count": null,
   "metadata": {},
   "outputs": [],
   "source": [
    "#Redefinimos las variables \n",
    "x= vars_Indep_3\n",
    "y= vars_Dep_3\n"
   ]
  },
  {
   "cell_type": "code",
   "execution_count": null,
   "metadata": {},
   "outputs": [],
   "source": [
    "\n",
    "#dividimos el conjunto de datos en la parte de entrenamiento y pruba \n",
    "X_test3, X_train3, Y_test3, Y_train3= train_test_split(x,y, test_size=0.3, random_state=None)\n"
   ]
  },
  {
   "cell_type": "code",
   "execution_count": null,
   "metadata": {},
   "outputs": [],
   "source": [
    "escalar3 = StandardScaler()"
   ]
  },
  {
   "cell_type": "code",
   "execution_count": null,
   "metadata": {},
   "outputs": [],
   "source": [
    "#Para realizar el escalamiento de las variables \"X\" tanto de entrenamiento como de prueba, Utilizaremos \n",
    "X_train3 = escalar.fit_transform(X_train3)\n",
    "X_test3 = escalar.transform(X_test3)\n"
   ]
  },
  {
   "cell_type": "code",
   "execution_count": null,
   "metadata": {},
   "outputs": [],
   "source": [
    "#definimos el algoritmo a utilizar\n",
    "from sklearn.linear_model import LogisticRegression\n",
    "algoritmo3 = LogisticRegression()\n"
   ]
  },
  {
   "cell_type": "code",
   "execution_count": null,
   "metadata": {},
   "outputs": [],
   "source": [
    "#Entrenamos el modelo \n",
    "algoritmo3.fit(X_train3, Y_train3)\n"
   ]
  },
  {
   "cell_type": "code",
   "execution_count": null,
   "metadata": {},
   "outputs": [],
   "source": [
    "#realizamos una prediccion \n",
    "y_pred3 = algoritmo3.predict(X_test3)\n",
    "y_pred3\n"
   ]
  },
  {
   "cell_type": "code",
   "execution_count": null,
   "metadata": {},
   "outputs": [],
   "source": [
    "#Verifico la matriz de confusion \n",
    "from sklearn.metrics import confusion_matrix\n",
    "matriz = confusion_matrix(Y_test3, y_pred3)\n",
    "print('Matriz de Confusion')\n",
    "print(matriz)\n"
   ]
  },
  {
   "cell_type": "code",
   "execution_count": null,
   "metadata": {},
   "outputs": [],
   "source": [
    "#CAlculamos la prediccion del modelo \n",
    "from sklearn.metrics import precision_score\n",
    "precision = precision_score(Y_test3, y_pred3, average=\"binary\", pos_label=\"extreñidos\")\n",
    "print('Precision del modelo:')\n",
    "print(precision)\n"
   ]
  },
  {
   "cell_type": "code",
   "execution_count": null,
   "metadata": {},
   "outputs": [],
   "source": [
    "#Calculamos la exactitud del modelo \n",
    "from sklearn.metrics import accuracy_score\n",
    "exactitud = accuracy_score(Y_test3, y_pred3)\n",
    "print('Exactitud del modelo:')\n",
    "print(exactitud)\n"
   ]
  },
  {
   "cell_type": "code",
   "execution_count": null,
   "metadata": {},
   "outputs": [],
   "source": [
    "#calculamos la sensibilidad del modelo \n",
    "from sklearn.metrics import recall_score\n",
    "sensibilidad = recall_score(Y_test3, y_pred3, average=\"binary\", pos_label=\"extreñidos\")\n",
    "print('Sensibilidad del modelo:')\n",
    "print(sensibilidad)\n"
   ]
  },
  {
   "cell_type": "markdown",
   "metadata": {},
   "source": [
    "**5 Categoria**"
   ]
  },
  {
   "cell_type": "code",
   "execution_count": null,
   "metadata": {},
   "outputs": [],
   "source": [
    "#Obtenemos el limite superior y el límite inferior de la columna objetivo\n",
    "Max=dft['host_total_listings_count'].max()\n",
    "Min=dft['host_total_listings_count'].min()\n",
    "Limites= [Min, Max]\n",
    "Limites\n"
   ]
  },
  {
   "cell_type": "code",
   "execution_count": null,
   "metadata": {},
   "outputs": [],
   "source": [
    "dft['host_total_listings_count']"
   ]
  },
  {
   "cell_type": "code",
   "execution_count": null,
   "metadata": {},
   "outputs": [],
   "source": [
    "#Categorización de variables\n",
    "#Declaramos 2 intervalos \n",
    "intervalos4=np.linspace(0.99, 442.1, 3)\n",
    "intervalos4\n"
   ]
  },
  {
   "cell_type": "code",
   "execution_count": null,
   "metadata": {},
   "outputs": [],
   "source": [
    "#Creamos las categorías \n",
    "categorias4= [\"pocas\", \"muchas\"]\n"
   ]
  },
  {
   "cell_type": "code",
   "execution_count": null,
   "metadata": {},
   "outputs": [],
   "source": [
    "dft['host_total_listings_count']"
   ]
  },
  {
   "cell_type": "code",
   "execution_count": null,
   "metadata": {},
   "outputs": [],
   "source": [
    "#Finalmente creamos las categorías en la columna numérica\n",
    "dft['host_total_listings_count']=pd.cut(x= dft['host_total_listings_count'], bins=intervalos4, labels= categorias4 )\n"
   ]
  },
  {
   "cell_type": "code",
   "execution_count": null,
   "metadata": {},
   "outputs": [],
   "source": [
    "#Rellenamos valores nulos\n",
    "dft= dft.fillna(method='bfill')\n",
    "dftf= dft.fillna(method='ffill')\n"
   ]
  },
  {
   "cell_type": "code",
   "execution_count": null,
   "metadata": {},
   "outputs": [],
   "source": [
    "dft['host_total_listings_count'].isnull().sum()"
   ]
  },
  {
   "cell_type": "code",
   "execution_count": null,
   "metadata": {},
   "outputs": [],
   "source": [
    "vars_Indep_4 = dft[['bedrooms']]\n",
    "\n",
    "vars_Dep_4 = dft['host_total_listings_count']\n"
   ]
  },
  {
   "cell_type": "code",
   "execution_count": null,
   "metadata": {},
   "outputs": [],
   "source": [
    "#Redefinimos las variables \n",
    "x= vars_Indep_4\n",
    "y= vars_Dep_4\n"
   ]
  },
  {
   "cell_type": "code",
   "execution_count": null,
   "metadata": {},
   "outputs": [],
   "source": [
    "#dividimos el conjunto de datos en la parte de entrenamiento y pruba \n",
    "X_test4, X_train4, Y_test4, Y_train4= train_test_split(x,y, test_size=0.3, random_state=None)\n"
   ]
  },
  {
   "cell_type": "code",
   "execution_count": null,
   "metadata": {},
   "outputs": [],
   "source": [
    "escalar4 = StandardScaler()"
   ]
  },
  {
   "cell_type": "code",
   "execution_count": null,
   "metadata": {},
   "outputs": [],
   "source": [
    "#Para realizar el escalamiento de las variables \"X\" tanto de entrenamiento como de prueba, Utilizaremos \n",
    "X_train4 = escalar.fit_transform(X_train4)\n",
    "X_test4 = escalar.transform(X_test4)\n"
   ]
  },
  {
   "cell_type": "code",
   "execution_count": null,
   "metadata": {},
   "outputs": [],
   "source": [
    "#definimos el algoritmo a utilizar\n",
    "from sklearn.linear_model import LogisticRegression\n",
    "algoritmo4 = LogisticRegression()\n"
   ]
  },
  {
   "cell_type": "code",
   "execution_count": null,
   "metadata": {},
   "outputs": [],
   "source": [
    "#Entrenamos el modelo \n",
    "algoritmo4.fit(X_train4, Y_train4)\n"
   ]
  },
  {
   "cell_type": "code",
   "execution_count": null,
   "metadata": {},
   "outputs": [],
   "source": [
    "#realizamos una prediccion \n",
    "y_pred4 = algoritmo4.predict(X_test4)\n",
    "y_pred4\n"
   ]
  },
  {
   "cell_type": "code",
   "execution_count": null,
   "metadata": {},
   "outputs": [],
   "source": [
    "#Verifico la matriz de confusion \n",
    "from sklearn.metrics import confusion_matrix\n",
    "matriz = confusion_matrix(Y_test4, y_pred4)\n",
    "print('Matriz de Confusion')\n",
    "print(matriz)\n"
   ]
  },
  {
   "cell_type": "code",
   "execution_count": null,
   "metadata": {},
   "outputs": [],
   "source": [
    "#CAlculamos la prediccion del modelo \n",
    "from sklearn.metrics import precision_score\n",
    "precision = precision_score(Y_test4, y_pred4, average=\"binary\", pos_label=\"pocas\")\n",
    "print('Precision del modelo:')\n",
    "print(precision)\n"
   ]
  },
  {
   "cell_type": "code",
   "execution_count": null,
   "metadata": {},
   "outputs": [],
   "source": [
    "#Calculamos la exactitud del modelo \n",
    "from sklearn.metrics import accuracy_score\n",
    "exactitud = accuracy_score(Y_test4, y_pred4)\n",
    "print('Exactitud del modelo:')\n",
    "print(exactitud)\n"
   ]
  },
  {
   "cell_type": "code",
   "execution_count": null,
   "metadata": {},
   "outputs": [],
   "source": [
    "#calculamos la sensibilidad del modelo \n",
    "from sklearn.metrics import recall_score\n",
    "sensibilidad = recall_score(Y_test4, y_pred4, average=\"binary\", pos_label=\"pocas\")\n",
    "print('Sensibilidad del modelo:')\n",
    "print(sensibilidad)\n"
   ]
  },
  {
   "cell_type": "markdown",
   "metadata": {},
   "source": [
    "**FIN**"
   ]
  }
 ],
 "metadata": {
  "kernelspec": {
   "display_name": "Python 3",
   "language": "python",
   "name": "python3"
  },
  "language_info": {
   "codemirror_mode": {
    "name": "ipython",
    "version": 3
   },
   "file_extension": ".py",
   "mimetype": "text/x-python",
   "name": "python",
   "nbconvert_exporter": "python",
   "pygments_lexer": "ipython3",
   "version": "3.11.9"
  }
 },
 "nbformat": 4,
 "nbformat_minor": 2
}
